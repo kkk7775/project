{
 "cells": [
  {
   "cell_type": "markdown",
   "metadata": {
    "id": "pZrycmS2S_1t"
   },
   "source": [
    "# Real World Use Case\n",
    "\n",
    "### Uber's simplified pricing model\n",
    "\n",
    "When you request an Uber, you enter your pick-up location and the destination. Based on the distance, peak hours, willingness to pay and many other factors, Uber uses a machine learning algorithm to compute what prices will be shown to you.\n",
    "\n",
    "Let's consider a simplistic version of the Uber Pricing Model where you compute the price based on the distance between the pick-up and the drop location and the time of the booking.\n",
    "\n",
    "User Inputs:\n",
    "\n",
    "* Pick-up location (pick_up_latitude, pick_up_longitude)\n",
    "* Drop location (drop_latitude, drop_longitude)\n",
    "* Time of booking\n",
    "\n",
    "Output:\n",
    "\n",
    "* Final Price"
   ]
  },
  {
   "cell_type": "markdown",
   "metadata": {
    "id": "N6hCfBw3TNhJ"
   },
   "source": [
    " ### Development Code"
   ]
  },
  {
   "cell_type": "code",
   "execution_count": 1,
   "metadata": {
    "id": "AJIiOvc9vHJ-"
   },
   "outputs": [
    {
     "name": "stdout",
     "output_type": "stream",
     "text": [
      "Requirement already satisfied: geopy in c:\\users\\acer11\\anaconda3\\lib\\site-packages (2.4.0)Note: you may need to restart the kernel to use updated packages.\n",
      "\n",
      "Requirement already satisfied: geographiclib<3,>=1.52 in c:\\users\\acer11\\anaconda3\\lib\\site-packages (from geopy) (2.0)\n"
     ]
    }
   ],
   "source": [
    "pip install geopy"
   ]
  },
  {
   "cell_type": "code",
   "execution_count": 2,
   "metadata": {
    "id": "vdwRZpbJTC2b"
   },
   "outputs": [],
   "source": [
    "# Calculate the distance between the pick-up location and the drop location\n",
    "\n",
    "import geopy.distance\n",
    "        \n",
    "def get_distance(location_1, location_2):\n",
    "\n",
    "    distance = geopy.distance.distance(location_1, location_2).km\n",
    "\n",
    "    return distance"
   ]
  },
  {
   "cell_type": "code",
   "execution_count": 3,
   "metadata": {
    "id": "zC0vGEflTK8c"
   },
   "outputs": [],
   "source": [
    "def get_price_per_km(hour):\n",
    "    \n",
    "    if (hour > 8) & (hour < 11):\n",
    "        price_per_km = 20\n",
    "    elif (hour > 18) & (hour < 21):\n",
    "        price_per_km = 15\n",
    "    else:\n",
    "        price_per_km = 10\n",
    "        \n",
    "    return price_per_km"
   ]
  },
  {
   "cell_type": "code",
   "execution_count": 4,
   "metadata": {
    "id": "sJhJg5PhTPWh"
   },
   "outputs": [],
   "source": [
    "def get_final_price(pick_up_location, drop_location, booking_hour):\n",
    "    \n",
    "    total_distance = get_distance(pick_up_location, drop_location)\n",
    "    actual_price_per_km = get_price_per_km(booking_hour)\n",
    "    \n",
    "    final_price = round(total_distance * actual_price_per_km, 2)\n",
    "    \n",
    "    return final_price"
   ]
  },
  {
   "cell_type": "code",
   "execution_count": 5,
   "metadata": {
    "id": "cYICiaPGTQ5c"
   },
   "outputs": [],
   "source": [
    "# Inputs\n",
    "\n",
    "pick_up_location = (24, 70)\n",
    "drop_location = (24.1, 70.1)\n",
    "booking_time = 19"
   ]
  },
  {
   "cell_type": "code",
   "execution_count": 6,
   "metadata": {
    "colab": {
     "base_uri": "https://localhost:8080/"
    },
    "id": "J-6Y6diXTSU7",
    "outputId": "8e912397-eb90-4262-e78b-212b1d78dee7"
   },
   "outputs": [
    {
     "data": {
      "text/plain": [
       "225.56"
      ]
     },
     "execution_count": 6,
     "metadata": {},
     "output_type": "execute_result"
    }
   ],
   "source": [
    "# Output\n",
    "\n",
    "get_final_price(pick_up_location, drop_location, booking_time)"
   ]
  },
  {
   "cell_type": "markdown",
   "metadata": {
    "id": "q_nSK3-FTaqD"
   },
   "source": [
    "### Production Grade Code"
   ]
  },
  {
   "cell_type": "code",
   "execution_count": 7,
   "metadata": {
    "id": "QHPqo8fNTUGG"
   },
   "outputs": [],
   "source": [
    "# Calculate the distance between the pick-up location and the drop location\n",
    "\n",
    "import geopy.distance\n",
    "import math\n",
    "\n",
    "class Maps:\n",
    "    \n",
    "    def __init__(self):\n",
    "        pass\n",
    "        \n",
    "    def get_distance(self, location_1, location_2):\n",
    "\n",
    "        try:\n",
    "            distance = geopy.distance.distance(location_1, location_2).km\n",
    "        except:\n",
    "            distance = math.sqrt((location_1[0]-location_2[0])^2 + (location_1[1]-location_2[1])^2)\n",
    "            \n",
    "        return distance"
   ]
  },
  {
   "cell_type": "code",
   "execution_count": 8,
   "metadata": {
    "id": "4n1-Cf9GTX4h"
   },
   "outputs": [],
   "source": [
    "class SurgePricing:\n",
    "    \n",
    "    def __init__(self):\n",
    "        pass\n",
    "\n",
    "    def get_price_per_km(self, hour):\n",
    "\n",
    "        try:\n",
    "\n",
    "            if (hour > 8) & (hour < 11):\n",
    "                price_per_km = 20\n",
    "            elif (hour > 18) & (hour < 21):\n",
    "                price_per_km = 15\n",
    "            else:\n",
    "                price_per_km = 10\n",
    "\n",
    "        except:\n",
    "\n",
    "            price_per_km = 10\n",
    "\n",
    "        return price_per_km"
   ]
  },
  {
   "cell_type": "code",
   "execution_count": 9,
   "metadata": {
    "id": "4lSkQz2ITer_"
   },
   "outputs": [],
   "source": [
    "def get_final_price(pick_up_location, drop_location, booking_hour):\n",
    "    \n",
    "    maps = Maps()\n",
    "    surge = SurgePricing()\n",
    "    \n",
    "    total_distance = maps.get_distance(pick_up_location, drop_location)\n",
    "    actual_price_per_km = surge.get_price_per_km(booking_hour)\n",
    "    \n",
    "    final_price = round(total_distance * actual_price_per_km, 2)\n",
    "    \n",
    "    return final_price"
   ]
  },
  {
   "cell_type": "code",
   "execution_count": 10,
   "metadata": {
    "colab": {
     "base_uri": "https://localhost:8080/"
    },
    "id": "aQ0YYXCATgJS",
    "outputId": "3474fdba-1879-462a-9c08-f8df71045e02"
   },
   "outputs": [
    {
     "data": {
      "text/plain": [
       "225.56"
      ]
     },
     "execution_count": 10,
     "metadata": {},
     "output_type": "execute_result"
    }
   ],
   "source": [
    "# Output\n",
    "\n",
    "get_final_price(pick_up_location, drop_location, booking_time)"
   ]
  }
 ],
 "metadata": {
  "colab": {
   "provenance": []
  },
  "kernelspec": {
   "display_name": "Python 3 (ipykernel)",
   "language": "python",
   "name": "python3"
  },
  "language_info": {
   "codemirror_mode": {
    "name": "ipython",
    "version": 3
   },
   "file_extension": ".py",
   "mimetype": "text/x-python",
   "name": "python",
   "nbconvert_exporter": "python",
   "pygments_lexer": "ipython3",
   "version": "3.11.4"
  }
 },
 "nbformat": 4,
 "nbformat_minor": 1
}
